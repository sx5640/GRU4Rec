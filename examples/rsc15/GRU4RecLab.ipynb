{
 "cells": [
  {
   "cell_type": "markdown",
   "metadata": {},
   "source": [
    "### Presented at <a href=\"http://qvik.fi/\"><img style=\"height:100px\" src=\"https://qvik.com/wp-content/themes/qvik/images/qvik-logo-dark.png\"/></a>\n",
    "### Session-based recommender Systems: Hands-on GRU4Rec \n",
    "#### Frederick Ayala Gómez, PhD Student in Computer Science at ELTE University. Visiting Researcher at Aalto's Data Mining Group\n",
    "##### Let's keep in touch!\n",
    "Twitter: https://twitter.com/fredayala <br/>\n",
    "LinkedIn: https://linkedin.com/in/frederickayala <br/>\n",
    "GitHub: https://github.com/frederickayala\n",
    "<hr/>"
   ]
  },
  {
   "cell_type": "markdown",
   "metadata": {},
   "source": [
    "- Few notes:\n",
    "    - This notebook was tested on Windows and presents how to use GRU4Rec\n",
    "    - The paper of GRU4Rec is: B. Hidasi, et al. 2015 “Session-based recommendations with recurrent neural networks”. CoRR\n",
    "    - The poster of this paper can be found in http://www.hidasi.eu/content/gru4rec_iclr16_poster.pdf\n",
    "    - For OSx and Linux, CUDA, Theano and Anaconda 'might' need some extra steps\n",
    "    - On Linux Desktop (e.g. Ubuntu Desktop ), **be careful** with installing CUDA and NVIDIA drivers. It 'might' break lightdm 🙈🙉🙊\n",
    "    - An NVIDIA GEFORCE GTX 980M was used\n",
    "    - The starting point of this notebook is the original python demo file from Balázs Hidasi's GRU4REC repository.\n",
    "    - It's recommended to use Anaconda to install stuff easier\n",
    "\n",
    "- Installation steps:\n",
    "    - Install *CUDA 8.0* from https://developer.nvidia.com/cuda-downloads\n",
    "        - Optional: Install cuDNN https://developer.nvidia.com/cudnn\n",
    "    - Install *Anaconda 4.3.1* for *Python 3.6* from https://www.continuum.io/downloads\n",
    "    - Open Anaconda Navigator\n",
    "        - Go to Enviroments / Create / Python Version 3.6 and give some name\n",
    "        - In Channels, add: conda-forge then click on Update index...\n",
    "        - Click on your enviroment Play arrow and choose Open Terminal\n",
    "        - Install the libraries that we need:\n",
    "            - conda install numpy scipy pandas mkl-service libpython m2w64-toolchain nose nose-parameterized sphinx pydot-ng\n",
    "            - conda install theano pygpu\n",
    "            - conda install matplotlib seaborn statsmodels\n",
    "    - Create a .theanorc file in your home directory and add the following: <br/>\n",
    "        [global] <br/>\n",
    "        device = cuda <br/>\n",
    "        \\# Only if you want to use cuDNN <br/>\n",
    "        [dnn]<br/>\n",
    "        include_path=/path/to/cuDNN/include <br/>\n",
    "        library_path=/path/to/cuDNN/lib/x64\n",
    "- Get the GRU4Rec code and the dataset\n",
    "    - GRU4Rec:\n",
    "        - git clone https://github.com/hidasib/GRU4Rec.git\n",
    "    - YOOCHOOSE Dataset:\n",
    "        - http://2015.recsyschallenge.com/challenge.html\n",
    "    - To get the training and testing files we have to preprocess the original dataset.\n",
    "        - Go to the terminal that is running your anaconda enviroment\n",
    "        - Navigate to the GRU4Rec folder\n",
    "        - Edit the file GRU4Rec/examples/rsc15/preprocess.py and modify the following variables:\n",
    "            - PATH_TO_ORIGINAL_DATA *The path to the input raw dataset*\n",
    "            - PATH_TO_PROCESSED_DATA *The path to where you want the output*\n",
    "        - Run the command: python preprocess.py\n",
    "        - This will take some time, when the process ends you will have the files *rsc15_train_full.txt* and *rsc15_test.txt* in your *PATH_TO_PROCESSED_DATA* path\n",
    "    - Place this notebook in the folder GRU4Rec/examples/rsc15/\n",
    "- That's it! we are ready to run GRU4Rec"
   ]
  },
  {
   "cell_type": "code",
   "execution_count": 1,
   "metadata": {
    "collapsed": true
   },
   "outputs": [],
   "source": [
    "# -*- coding: utf-8 -*-\n",
    "import theano\n",
    "import pickle\n",
    "import sys\n",
    "import os\n",
    "sys.path.append('../..')\n",
    "import numpy as np\n",
    "import pandas as pd\n",
    "import gru4rec #If this shows an error probably the notebook is not in GRU4Rec/examples/rsc15/\n",
    "import evaluation\n",
    "from IPython.core.debugger import set_trace"
   ]
  },
  {
   "cell_type": "code",
   "execution_count": 2,
   "metadata": {},
   "outputs": [
    {
     "name": "stdout",
     "output_type": "stream",
     "text": [
      "float32\n"
     ]
    }
   ],
   "source": [
    "# Validate that the following assert makes sense in your platform\n",
    "# This works on Windows with a NVIDIA GPU\n",
    "# In other platforms theano.config.device gives other things than 'cuda' when using the GPU\n",
    "assert 'cpu' in theano.config.device,(\"Theano is not configured to use the GPU. Please check .theanorc. \"\n",
    "                                       \"Check http://deeplearning.net/software/theano/tutorial/using_gpu.html\")\n",
    "print(theano.config.floatX)"
   ]
  },
  {
   "cell_type": "markdown",
   "metadata": {},
   "source": [
    "#### Update PATH_TO_TRAIN and PATH_TO_TEST to the path for rsc15_train_full.txt and rsc15_test.txt respectively "
   ]
  },
  {
   "cell_type": "code",
   "execution_count": 3,
   "metadata": {
    "collapsed": true
   },
   "outputs": [],
   "source": [
    "PATH_TO_TRAIN = '/Users/sx5640/Code/jupyter/GRU4Rec/examples/rsc15/output/rsc15_train_full.txt'\n",
    "PATH_TO_TEST = '/Users/sx5640/Code/jupyter/GRU4Rec/examples/rsc15/output/rsc15_test.txt'\n",
    "\n",
    "data = pd.read_csv(PATH_TO_TRAIN, sep='\\t', dtype={'ItemId':np.int64})\n",
    "valid = pd.read_csv(PATH_TO_TEST, sep='\\t', dtype={'ItemId':np.int64})"
   ]
  },
  {
   "cell_type": "markdown",
   "metadata": {},
   "source": [
    "#### Let's take a look to the datasets"
   ]
  },
  {
   "cell_type": "code",
   "execution_count": 4,
   "metadata": {
    "collapsed": true
   },
   "outputs": [],
   "source": [
    "%matplotlib inline\n",
    "import numpy as np\n",
    "import pandas as pd\n",
    "from scipy import stats, integrate\n",
    "import matplotlib.pyplot as plt\n",
    "import seaborn as sns\n",
    "sns.set(color_codes=True)"
   ]
  },
  {
   "cell_type": "markdown",
   "metadata": {},
   "source": [
    "#####  Sneak Peak to the dataset"
   ]
  },
  {
   "cell_type": "code",
   "execution_count": 5,
   "metadata": {},
   "outputs": [
    {
     "data": {
      "text/html": [
       "<div>\n",
       "<style>\n",
       "    .dataframe thead tr:only-child th {\n",
       "        text-align: right;\n",
       "    }\n",
       "\n",
       "    .dataframe thead th {\n",
       "        text-align: left;\n",
       "    }\n",
       "\n",
       "    .dataframe tbody tr th {\n",
       "        vertical-align: top;\n",
       "    }\n",
       "</style>\n",
       "<table border=\"1\" class=\"dataframe\">\n",
       "  <thead>\n",
       "    <tr style=\"text-align: right;\">\n",
       "      <th></th>\n",
       "      <th>SessionId</th>\n",
       "      <th>ItemId</th>\n",
       "      <th>Time</th>\n",
       "    </tr>\n",
       "  </thead>\n",
       "  <tbody>\n",
       "    <tr>\n",
       "      <th>0</th>\n",
       "      <td>1</td>\n",
       "      <td>214536502</td>\n",
       "      <td>1.396882e+09</td>\n",
       "    </tr>\n",
       "    <tr>\n",
       "      <th>1</th>\n",
       "      <td>1</td>\n",
       "      <td>214536500</td>\n",
       "      <td>1.396882e+09</td>\n",
       "    </tr>\n",
       "    <tr>\n",
       "      <th>2</th>\n",
       "      <td>1</td>\n",
       "      <td>214536506</td>\n",
       "      <td>1.396882e+09</td>\n",
       "    </tr>\n",
       "    <tr>\n",
       "      <th>3</th>\n",
       "      <td>1</td>\n",
       "      <td>214577561</td>\n",
       "      <td>1.396883e+09</td>\n",
       "    </tr>\n",
       "    <tr>\n",
       "      <th>4</th>\n",
       "      <td>2</td>\n",
       "      <td>214662742</td>\n",
       "      <td>1.396893e+09</td>\n",
       "    </tr>\n",
       "  </tbody>\n",
       "</table>\n",
       "</div>"
      ],
      "text/plain": [
       "   SessionId     ItemId          Time\n",
       "0          1  214536502  1.396882e+09\n",
       "1          1  214536500  1.396882e+09\n",
       "2          1  214536506  1.396882e+09\n",
       "3          1  214577561  1.396883e+09\n",
       "4          2  214662742  1.396893e+09"
      ]
     },
     "execution_count": 5,
     "metadata": {},
     "output_type": "execute_result"
    }
   ],
   "source": [
    "data.head()"
   ]
  },
  {
   "cell_type": "code",
   "execution_count": 6,
   "metadata": {},
   "outputs": [
    {
     "data": {
      "text/html": [
       "<div>\n",
       "<style>\n",
       "    .dataframe thead tr:only-child th {\n",
       "        text-align: right;\n",
       "    }\n",
       "\n",
       "    .dataframe thead th {\n",
       "        text-align: left;\n",
       "    }\n",
       "\n",
       "    .dataframe tbody tr th {\n",
       "        vertical-align: top;\n",
       "    }\n",
       "</style>\n",
       "<table border=\"1\" class=\"dataframe\">\n",
       "  <thead>\n",
       "    <tr style=\"text-align: right;\">\n",
       "      <th></th>\n",
       "      <th>SessionId</th>\n",
       "      <th>ItemId</th>\n",
       "      <th>Time</th>\n",
       "    </tr>\n",
       "  </thead>\n",
       "  <tbody>\n",
       "    <tr>\n",
       "      <th>0</th>\n",
       "      <td>11265009</td>\n",
       "      <td>214586805</td>\n",
       "      <td>1.412018e+09</td>\n",
       "    </tr>\n",
       "    <tr>\n",
       "      <th>1</th>\n",
       "      <td>11265009</td>\n",
       "      <td>214509260</td>\n",
       "      <td>1.412018e+09</td>\n",
       "    </tr>\n",
       "    <tr>\n",
       "      <th>2</th>\n",
       "      <td>11265017</td>\n",
       "      <td>214857547</td>\n",
       "      <td>1.412032e+09</td>\n",
       "    </tr>\n",
       "    <tr>\n",
       "      <th>3</th>\n",
       "      <td>11265017</td>\n",
       "      <td>214857268</td>\n",
       "      <td>1.412032e+09</td>\n",
       "    </tr>\n",
       "    <tr>\n",
       "      <th>4</th>\n",
       "      <td>11265017</td>\n",
       "      <td>214857260</td>\n",
       "      <td>1.412032e+09</td>\n",
       "    </tr>\n",
       "  </tbody>\n",
       "</table>\n",
       "</div>"
      ],
      "text/plain": [
       "   SessionId     ItemId          Time\n",
       "0   11265009  214586805  1.412018e+09\n",
       "1   11265009  214509260  1.412018e+09\n",
       "2   11265017  214857547  1.412032e+09\n",
       "3   11265017  214857268  1.412032e+09\n",
       "4   11265017  214857260  1.412032e+09"
      ]
     },
     "execution_count": 6,
     "metadata": {},
     "output_type": "execute_result"
    }
   ],
   "source": [
    "valid.head()"
   ]
  },
  {
   "cell_type": "code",
   "execution_count": 7,
   "metadata": {},
   "outputs": [
    {
     "name": "stdout",
     "output_type": "stream",
     "text": [
      "There are 7966257 sessions in the training dataset\n",
      "There are 15324 sessions in the testing dataset\n",
      "Sessions in the testing set doesn't exist in the training set\n"
     ]
    }
   ],
   "source": [
    "sessions_training = set(data.SessionId)\n",
    "print(\"There are %i sessions in the training dataset\" % len(sessions_training))\n",
    "sessions_testing = set(valid.SessionId)\n",
    "print(\"There are %i sessions in the testing dataset\" % len(sessions_testing))\n",
    "assert len(sessions_testing.intersection(sessions_training)) == 0, (\"Huhu!\"\n",
    "                                                                    \"there are sessions from the testing set in\"\n",
    "                                                                    \"the training set\")\n",
    "print(\"Sessions in the testing set doesn't exist in the training set\")"
   ]
  },
  {
   "cell_type": "code",
   "execution_count": 8,
   "metadata": {},
   "outputs": [
    {
     "name": "stdout",
     "output_type": "stream",
     "text": [
      "There are 37483 items in the training dataset\n",
      "There are 6751 items in the testing dataset\n",
      "Items in the testing set exist in the training set\n"
     ]
    }
   ],
   "source": [
    "items_training = set(data.ItemId)\n",
    "print(\"There are %i items in the training dataset\" % len(items_training))\n",
    "items_testing = set(valid.ItemId)\n",
    "print(\"There are %i items in the testing dataset\" % len(items_testing))\n",
    "assert items_testing.issubset(items_training), (\"Huhu!\"\n",
    "                                                \"there are items from the testing set \"\n",
    "                                                \"that are not in the training set\")\n",
    "print(\"Items in the testing set exist in the training set\")"
   ]
  },
  {
   "cell_type": "code",
   "execution_count": 9,
   "metadata": {
    "collapsed": true
   },
   "outputs": [],
   "source": [
    "df_visualization = data.copy()\n",
    "df_visualization[\"value\"] = 1\n",
    "df_item_count = df_visualization[[\"ItemId\",\"value\"]].groupby(\"ItemId\").sum()"
   ]
  },
  {
   "cell_type": "code",
   "execution_count": 10,
   "metadata": {},
   "outputs": [
    {
     "data": {
      "text/html": [
       "<div>\n",
       "<style>\n",
       "    .dataframe thead tr:only-child th {\n",
       "        text-align: right;\n",
       "    }\n",
       "\n",
       "    .dataframe thead th {\n",
       "        text-align: left;\n",
       "    }\n",
       "\n",
       "    .dataframe tbody tr th {\n",
       "        vertical-align: top;\n",
       "    }\n",
       "</style>\n",
       "<table border=\"1\" class=\"dataframe\">\n",
       "  <thead>\n",
       "    <tr style=\"text-align: right;\">\n",
       "      <th></th>\n",
       "      <th>count</th>\n",
       "      <th>mean</th>\n",
       "      <th>std</th>\n",
       "      <th>min</th>\n",
       "      <th>25%</th>\n",
       "      <th>50%</th>\n",
       "      <th>75%</th>\n",
       "      <th>max</th>\n",
       "    </tr>\n",
       "  </thead>\n",
       "  <tbody>\n",
       "    <tr>\n",
       "      <th>value</th>\n",
       "      <td>37483.0</td>\n",
       "      <td>844.042339</td>\n",
       "      <td>3155.62772</td>\n",
       "      <td>1.0</td>\n",
       "      <td>16.0</td>\n",
       "      <td>77.0</td>\n",
       "      <td>368.0</td>\n",
       "      <td>132658.0</td>\n",
       "    </tr>\n",
       "  </tbody>\n",
       "</table>\n",
       "</div>"
      ],
      "text/plain": [
       "         count        mean         std  min   25%   50%    75%       max\n",
       "value  37483.0  844.042339  3155.62772  1.0  16.0  77.0  368.0  132658.0"
      ]
     },
     "execution_count": 10,
     "metadata": {},
     "output_type": "execute_result"
    }
   ],
   "source": [
    "# Most of the items are infrequent\n",
    "df_item_count.describe().transpose()"
   ]
  },
  {
   "cell_type": "code",
   "execution_count": 11,
   "metadata": {},
   "outputs": [
    {
     "data": {
      "image/png": "[encoded data removed]",
      "text/plain": [
       "<matplotlib.figure.Figure at 0x13d2aedd8>"
      ]
     },
     "metadata": {},
     "output_type": "display_data"
    },
    {
     "data": {
      "image/png": "[encoded data removed]",
      "text/plain": [
       "<matplotlib.figure.Figure at 0x1220ea3c8>"
      ]
     },
     "metadata": {},
     "output_type": "display_data"
    }
   ],
   "source": [
    "fig = plt.figure(figsize=[15,8])\n",
    "ax = fig.add_subplot(111)\n",
    "ax = sns.kdeplot(df_item_count[\"value\"], ax=ax)\n",
    "ax.set(xlabel='Item Frequency', ylabel='Kernel Density Estimation')\n",
    "plt.show()\n",
    "fig = plt.figure(figsize=[15,8])\n",
    "ax = fig.add_subplot(111)\n",
    "ax = sns.distplot(df_item_count[\"value\"],\n",
    "             hist_kws=dict(cumulative=True),\n",
    "             kde_kws=dict(cumulative=True))\n",
    "ax.set(xlabel='Item Frequency', ylabel='Cummulative Probability')\n",
    "plt.show()"
   ]
  },
  {
   "cell_type": "code",
   "execution_count": 12,
   "metadata": {
    "collapsed": true
   },
   "outputs": [],
   "source": [
    "# Let's analyze the co-occurrence\n",
    "df_cooccurrence = data.copy()\n",
    "df_cooccurrence[\"next_SessionId\"] = df_cooccurrence[\"SessionId\"].shift(-1)\n",
    "df_cooccurrence[\"next_ItemId\"] = df_cooccurrence[\"ItemId\"].shift(-1)\n",
    "df_cooccurrence[\"next_Time\"] = df_cooccurrence[\"Time\"].shift(-1)\n",
    "df_cooccurrence = df_cooccurrence.query(\"SessionId == next_SessionId\").dropna()\n",
    "df_cooccurrence[\"next_ItemId\"] = df_cooccurrence[\"next_ItemId\"].astype(int)\n",
    "df_cooccurrence[\"next_SessionId\"] = df_cooccurrence[\"next_SessionId\"].astype(int)"
   ]
  },
  {
   "cell_type": "code",
   "execution_count": 13,
   "metadata": {},
   "outputs": [
    {
     "data": {
      "text/html": [
       "<div>\n",
       "<style>\n",
       "    .dataframe thead tr:only-child th {\n",
       "        text-align: right;\n",
       "    }\n",
       "\n",
       "    .dataframe thead th {\n",
       "        text-align: left;\n",
       "    }\n",
       "\n",
       "    .dataframe tbody tr th {\n",
       "        vertical-align: top;\n",
       "    }\n",
       "</style>\n",
       "<table border=\"1\" class=\"dataframe\">\n",
       "  <thead>\n",
       "    <tr style=\"text-align: right;\">\n",
       "      <th></th>\n",
       "      <th>SessionId</th>\n",
       "      <th>ItemId</th>\n",
       "      <th>Time</th>\n",
       "      <th>next_SessionId</th>\n",
       "      <th>next_ItemId</th>\n",
       "      <th>next_Time</th>\n",
       "    </tr>\n",
       "  </thead>\n",
       "  <tbody>\n",
       "    <tr>\n",
       "      <th>0</th>\n",
       "      <td>1</td>\n",
       "      <td>214536502</td>\n",
       "      <td>1.396882e+09</td>\n",
       "      <td>1</td>\n",
       "      <td>214536500</td>\n",
       "      <td>1.396882e+09</td>\n",
       "    </tr>\n",
       "    <tr>\n",
       "      <th>1</th>\n",
       "      <td>1</td>\n",
       "      <td>214536500</td>\n",
       "      <td>1.396882e+09</td>\n",
       "      <td>1</td>\n",
       "      <td>214536506</td>\n",
       "      <td>1.396882e+09</td>\n",
       "    </tr>\n",
       "    <tr>\n",
       "      <th>2</th>\n",
       "      <td>1</td>\n",
       "      <td>214536506</td>\n",
       "      <td>1.396882e+09</td>\n",
       "      <td>1</td>\n",
       "      <td>214577561</td>\n",
       "      <td>1.396883e+09</td>\n",
       "    </tr>\n",
       "    <tr>\n",
       "      <th>4</th>\n",
       "      <td>2</td>\n",
       "      <td>214662742</td>\n",
       "      <td>1.396893e+09</td>\n",
       "      <td>2</td>\n",
       "      <td>214662742</td>\n",
       "      <td>1.396893e+09</td>\n",
       "    </tr>\n",
       "    <tr>\n",
       "      <th>5</th>\n",
       "      <td>2</td>\n",
       "      <td>214662742</td>\n",
       "      <td>1.396893e+09</td>\n",
       "      <td>2</td>\n",
       "      <td>214825110</td>\n",
       "      <td>1.396894e+09</td>\n",
       "    </tr>\n",
       "  </tbody>\n",
       "</table>\n",
       "</div>"
      ],
      "text/plain": [
       "   SessionId     ItemId          Time  next_SessionId  next_ItemId  \\\n",
       "0          1  214536502  1.396882e+09               1    214536500   \n",
       "1          1  214536500  1.396882e+09               1    214536506   \n",
       "2          1  214536506  1.396882e+09               1    214577561   \n",
       "4          2  214662742  1.396893e+09               2    214662742   \n",
       "5          2  214662742  1.396893e+09               2    214825110   \n",
       "\n",
       "      next_Time  \n",
       "0  1.396882e+09  \n",
       "1  1.396882e+09  \n",
       "2  1.396883e+09  \n",
       "4  1.396893e+09  \n",
       "5  1.396894e+09  "
      ]
     },
     "execution_count": 13,
     "metadata": {},
     "output_type": "execute_result"
    }
   ],
   "source": [
    "df_cooccurrence.head()"
   ]
  },
  {
   "cell_type": "code",
   "execution_count": 14,
   "metadata": {},
   "outputs": [
    {
     "data": {
      "text/html": [
       "<div>\n",
       "<style>\n",
       "    .dataframe thead tr:only-child th {\n",
       "        text-align: right;\n",
       "    }\n",
       "\n",
       "    .dataframe thead th {\n",
       "        text-align: left;\n",
       "    }\n",
       "\n",
       "    .dataframe tbody tr th {\n",
       "        vertical-align: top;\n",
       "    }\n",
       "</style>\n",
       "<table border=\"1\" class=\"dataframe\">\n",
       "  <thead>\n",
       "    <tr style=\"text-align: right;\">\n",
       "      <th></th>\n",
       "      <th>count</th>\n",
       "      <th>mean</th>\n",
       "      <th>std</th>\n",
       "      <th>min</th>\n",
       "      <th>25%</th>\n",
       "      <th>50%</th>\n",
       "      <th>75%</th>\n",
       "      <th>max</th>\n",
       "    </tr>\n",
       "  </thead>\n",
       "  <tbody>\n",
       "    <tr>\n",
       "      <th>time_difference_minutes</th>\n",
       "      <td>23670982.0</td>\n",
       "      <td>2.476333</td>\n",
       "      <td>5.434214</td>\n",
       "      <td>0.0</td>\n",
       "      <td>0.45</td>\n",
       "      <td>0.98</td>\n",
       "      <td>2.16</td>\n",
       "      <td>108.4</td>\n",
       "    </tr>\n",
       "  </tbody>\n",
       "</table>\n",
       "</div>"
      ],
      "text/plain": [
       "                              count      mean       std  min   25%   50%  \\\n",
       "time_difference_minutes  23670982.0  2.476333  5.434214  0.0  0.45  0.98   \n",
       "\n",
       "                          75%    max  \n",
       "time_difference_minutes  2.16  108.4  "
      ]
     },
     "execution_count": 14,
     "metadata": {},
     "output_type": "execute_result"
    }
   ],
   "source": [
    "df_cooccurrence[\"time_difference_minutes\"] = np.round((df_cooccurrence[\"next_Time\"] - df_cooccurrence[\"Time\"]) / 60, 2)\n",
    "df_cooccurrence[[\"time_difference_minutes\"]].describe().transpose()"
   ]
  },
  {
   "cell_type": "code",
   "execution_count": 15,
   "metadata": {
    "collapsed": true
   },
   "outputs": [],
   "source": [
    "df_cooccurrence[\"value\"] = 1\n",
    "df_cooccurrence_sum = df_cooccurrence[[\"ItemId\",\"next_ItemId\",\"value\"]].groupby([\"ItemId\",\"next_ItemId\"]).sum().reset_index()"
   ]
  },
  {
   "cell_type": "code",
   "execution_count": 16,
   "metadata": {},
   "outputs": [
    {
     "data": {
      "text/html": [
       "<div>\n",
       "<style>\n",
       "    .dataframe thead tr:only-child th {\n",
       "        text-align: right;\n",
       "    }\n",
       "\n",
       "    .dataframe thead th {\n",
       "        text-align: left;\n",
       "    }\n",
       "\n",
       "    .dataframe tbody tr th {\n",
       "        vertical-align: top;\n",
       "    }\n",
       "</style>\n",
       "<table border=\"1\" class=\"dataframe\">\n",
       "  <thead>\n",
       "    <tr style=\"text-align: right;\">\n",
       "      <th></th>\n",
       "      <th>count</th>\n",
       "      <th>mean</th>\n",
       "      <th>std</th>\n",
       "      <th>min</th>\n",
       "      <th>25%</th>\n",
       "      <th>50%</th>\n",
       "      <th>75%</th>\n",
       "      <th>max</th>\n",
       "    </tr>\n",
       "  </thead>\n",
       "  <tbody>\n",
       "    <tr>\n",
       "      <th>value</th>\n",
       "      <td>3706018.0</td>\n",
       "      <td>6.387174</td>\n",
       "      <td>78.06891</td>\n",
       "      <td>1.0</td>\n",
       "      <td>1.0</td>\n",
       "      <td>1.0</td>\n",
       "      <td>2.0</td>\n",
       "      <td>71095.0</td>\n",
       "    </tr>\n",
       "  </tbody>\n",
       "</table>\n",
       "</div>"
      ],
      "text/plain": [
       "           count      mean       std  min  25%  50%  75%      max\n",
       "value  3706018.0  6.387174  78.06891  1.0  1.0  1.0  2.0  71095.0"
      ]
     },
     "execution_count": 16,
     "metadata": {},
     "output_type": "execute_result"
    }
   ],
   "source": [
    "df_cooccurrence_sum[[\"value\"]].describe().transpose()"
   ]
  },
  {
   "cell_type": "markdown",
   "metadata": {},
   "source": [
    "### Training GRU"
   ]
  },
  {
   "cell_type": "code",
   "execution_count": 20,
   "metadata": {
    "collapsed": true
   },
   "outputs": [],
   "source": [
    "import time\n",
    "import datetime\n",
    "n_layers = 100\n",
    "save_to = os.path.join(os.path.dirname(PATH_TO_TEST), \"gru_\" + str(n_layers) +\".pickle\")"
   ]
  },
  {
   "cell_type": "code",
   "execution_count": 22,
   "metadata": {},
   "outputs": [
    {
     "name": "stdout",
     "output_type": "stream",
     "text": [
      "Loading existing GRU4Rec model with 100 hidden units\n"
     ]
    }
   ],
   "source": [
    "if not os.path.exists(save_to):\n",
    "    print(datetime.datetime.fromtimestamp(time.time()).strftime('%Y-%m-%d %H:%M:%S') + 'Training GRU4Rec with ' + str(n_layers) + ' hidden units')    \n",
    "    gru = gru4rec.GRU4Rec(layers=[n_layers], loss='bpr-max-2', batch_size=50, final_act='relu', hidden_act='tanh',\n",
    "                          dropout_p_hidden=0.5, learning_rate=0.01, momentum=0.0)\n",
    "    gru.fit(data)\n",
    "    print(datetime.datetime.fromtimestamp(time.time()).strftime('%Y-%m-%d %H:%M:%S') + 'Done Training')\n",
    "    pickle.dump(gru, open(save_to, \"wb\"))\n",
    "else:\n",
    "    print('Loading existing GRU4Rec model with ' + str(n_layers) + ' hidden units')    \n",
    "    gru = pickle.load(open(save_to, \"rb\"))"
   ]
  },
  {
   "cell_type": "markdown",
   "metadata": {},
   "source": [
    "### Evaluating GRU "
   ]
  },
  {
   "cell_type": "code",
   "execution_count": 23,
   "metadata": {},
   "outputs": [
    {
     "name": "stdout",
     "output_type": "stream",
     "text": [
      "Measuring Recall@19 and MRR@19\n"
     ]
    }
   ],
   "source": [
    "res = evaluation.evaluate_sessions_batch(gru, valid, None,cut_off=20)"
   ]
  },
  {
   "cell_type": "code",
   "execution_count": 24,
   "metadata": {},
   "outputs": [
    {
     "name": "stdout",
     "output_type": "stream",
     "text": [
      "The proportion of cases having the desired item within the top 20 (i.e Recall@20): 0.30748864002289883\n"
     ]
    }
   ],
   "source": [
    "print('The proportion of cases having the desired item within the top 20 (i.e Recall@20): {}'.format(res[0]))"
   ]
  },
  {
   "cell_type": "code",
   "execution_count": null,
   "metadata": {},
   "outputs": [],
   "source": [
    "batch_size = 500\n",
    "print(\"Now let's try to predict over the first %i items of our testint dataset\" % batch_size)"
   ]
  },
  {
   "cell_type": "code",
   "execution_count": null,
   "metadata": {},
   "outputs": [],
   "source": [
    "df_valid = valid.head(batch_size)\n",
    "df_valid[\"next_ItemId\"] = df_valid[\"ItemId\"].shift(-1)\n",
    "df_valid[\"next_SessionId\"] = df_valid[\"SessionId\"].shift(-1)"
   ]
  },
  {
   "cell_type": "code",
   "execution_count": null,
   "metadata": {
    "collapsed": true
   },
   "outputs": [],
   "source": [
    "session_ids = valid.head(batch_size)[\"SessionId\"].values\n",
    "input_item_ids = valid.head(batch_size)[\"ItemId\"].values\n",
    "predict_for_item_ids=None"
   ]
  },
  {
   "cell_type": "code",
   "execution_count": null,
   "metadata": {},
   "outputs": [],
   "source": [
    "%timeit gru.predict_next_batch(session_ids=session_ids, input_item_ids=input_item_ids, predict_for_item_ids=None, batch=batch_size)"
   ]
  },
  {
   "cell_type": "code",
   "execution_count": null,
   "metadata": {
    "collapsed": true
   },
   "outputs": [],
   "source": [
    "df_preds = gru.predict_next_batch(session_ids=session_ids, \n",
    "                      input_item_ids=input_item_ids,\n",
    "                      predict_for_item_ids=None,\n",
    "                      batch=batch_size)"
   ]
  },
  {
   "cell_type": "code",
   "execution_count": null,
   "metadata": {},
   "outputs": [],
   "source": [
    "df_valid.shape"
   ]
  },
  {
   "cell_type": "code",
   "execution_count": null,
   "metadata": {},
   "outputs": [],
   "source": [
    "df_valid"
   ]
  },
  {
   "cell_type": "code",
   "execution_count": null,
   "metadata": {},
   "outputs": [],
   "source": [
    "df_preds.shape"
   ]
  },
  {
   "cell_type": "code",
   "execution_count": null,
   "metadata": {
    "collapsed": true
   },
   "outputs": [],
   "source": [
    "df_preds.columns = df_valid.index.values"
   ]
  },
  {
   "cell_type": "code",
   "execution_count": null,
   "metadata": {},
   "outputs": [],
   "source": [
    "len(items_training)"
   ]
  },
  {
   "cell_type": "code",
   "execution_count": null,
   "metadata": {
    "scrolled": false
   },
   "outputs": [],
   "source": [
    "df_preds"
   ]
  },
  {
   "cell_type": "code",
   "execution_count": null,
   "metadata": {
    "collapsed": true
   },
   "outputs": [],
   "source": [
    "for c in df_preds:\n",
    "    df_preds[c] = df_preds[c].rank(ascending=False)"
   ]
  },
  {
   "cell_type": "code",
   "execution_count": null,
   "metadata": {},
   "outputs": [],
   "source": [
    "df_valid_preds = df_valid.join(df_preds.transpose())\n",
    "df_valid_preds = df_valid_preds.query(\"SessionId == next_SessionId\").dropna()\n",
    "df_valid_preds[\"next_ItemId\"] = df_valid_preds[\"next_ItemId\"].astype(int)\n",
    "df_valid_preds[\"next_SessionId\"] = df_valid_preds[\"next_SessionId\"].astype(int)\n",
    "df_valid_preds[\"next_ItemId_at\"] = df_valid_preds.apply(lambda x: x[int(x[\"next_ItemId\"])], axis=1)\n",
    "df_valid_preds_summary = df_valid_preds[[\"SessionId\",\"ItemId\",\"Time\",\"next_ItemId\",\"next_ItemId_at\"]]\n",
    "df_valid_preds_summary.head(20)"
   ]
  },
  {
   "cell_type": "code",
   "execution_count": null,
   "metadata": {},
   "outputs": [],
   "source": [
    "cutoff = 20\n",
    "df_valid_preds_summary_ok = df_valid_preds_summary.query(\"next_ItemId_at <= @cutoff\")\n",
    "df_valid_preds_summary_ok.head(20)"
   ]
  },
  {
   "cell_type": "code",
   "execution_count": null,
   "metadata": {},
   "outputs": [],
   "source": [
    "recall_at_k = df_valid_preds_summary_ok.shape[0] / df_valid_preds_summary.shape[0]\n",
    "print(\"The recall@%i for this batch is %f\"%(cutoff,recall_at_k))"
   ]
  },
  {
   "cell_type": "code",
   "execution_count": null,
   "metadata": {},
   "outputs": [],
   "source": [
    "fig = plt.figure(figsize=[15,8])\n",
    "ax = fig.add_subplot(111)\n",
    "ax = sns.kdeplot(df_valid_preds_summary[\"next_ItemId_at\"], ax=ax)\n",
    "ax.set(xlabel='Next Desired Item @K', ylabel='Kernel Density Estimation')\n",
    "plt.show()\n",
    "fig = plt.figure(figsize=[15,8])\n",
    "ax = fig.add_subplot(111)\n",
    "ax = sns.distplot(df_valid_preds_summary[\"next_ItemId_at\"],\n",
    "             hist_kws=dict(cumulative=True),\n",
    "             kde_kws=dict(cumulative=True))\n",
    "ax.set(xlabel='Next Desired Item @K', ylabel='Cummulative Probability')\n",
    "plt.show()"
   ]
  },
  {
   "cell_type": "code",
   "execution_count": null,
   "metadata": {},
   "outputs": [],
   "source": [
    "print(\"Statistics for the rank of the next desired item (Lower the best)\")\n",
    "df_valid_preds_summary[[\"next_ItemId_at\"]].describe()"
   ]
  },
  {
   "cell_type": "code",
   "execution_count": null,
   "metadata": {
    "collapsed": true
   },
   "outputs": [],
   "source": []
  }
 ],
 "metadata": {
  "kernelspec": {
   "display_name": "Python 3",
   "language": "python",
   "name": "python3"
  },
  "language_info": {
   "codemirror_mode": {
    "name": "ipython",
    "version": 3
   },
   "file_extension": ".py",
   "mimetype": "text/x-python",
   "name": "python",
   "nbconvert_exporter": "python",
   "pygments_lexer": "ipython3",
   "version": "3.6.2"
  }
 },
 "nbformat": 4,
 "nbformat_minor": 2
}
